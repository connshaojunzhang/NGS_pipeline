import sys
import os

sites, annot = sys.argv[1:]
cmd = f"bedtools intersect -s -a {sites} -b {annot} -wo"

stat = {}
for line in os.popen(cmd):
    chrom1, st1, _, _, _, strand, _, chrom2, st2, ed2, name, rlt_offset, _, _ = line.strip().split("\t")
    gn, trans_id, feature, n, icmt = name.split("|")
    
    key = "\t".join([chrom1, st1, strand])
    if not key in stat:
        stat[key] = []
    if strand == "+":
        rlt_pos = float(rlt_offset) + abs(int(st1)-int(st2)+1) * float(icmt)
    else:
        rlt_pos = float(rlt_offset) + abs(int(st1)-int(ed2)+2) * float(icmt)
    stat[key].append([gn, trans_id, feature, rlt_pos])

for key in stat:
    w = 1 / len(stat[key])
    for gn, trans_id, feature, rlt_pos in stat[key]:
        print(key, "|".join([gn, trans_id, feature]), rlt_pos, w, sep="\t")
    


