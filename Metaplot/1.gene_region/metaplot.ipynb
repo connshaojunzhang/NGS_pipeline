{
 "cells": [
  {
   "cell_type": "code",
   "execution_count": 54,
   "metadata": {},
   "outputs": [],
   "source": [
    "import os\n",
    "\n",
    "import numpy as np\n",
    "import matplotlib.pyplot as plt\n",
    "import plotnine as p9\n",
    "import scipy as sp"
   ]
  },
  {
   "cell_type": "code",
   "execution_count": 55,
   "metadata": {},
   "outputs": [],
   "source": [
    "path = \"./\"\n",
    "hek293 = [ path+i for  i in os.listdir(path) if i.endswith(\".dist_measure.tsv\") ]\n",
    "hek293.sort()\n",
    "\n",
    "feat_scale = {\"UTR5\":1, \"CDS\":2, \"UTR3\":1}\n",
    "feat_offset = {\"UTR5\":0, \"CDS\":feat_scale[\"UTR5\"], \"UTR3\":feat_scale[\"UTR5\"]+feat_scale[\"CDS\"]}\n",
    "\n",
    "dist_mea = {}\n",
    "for tsv in hek293:\n",
    "    prefix = tsv.split(\"/\")[-1].split(\".\")[0]\n",
    "    dist_mea[prefix] = []\n",
    "\n",
    "    for line in open(tsv):\n",
    "        chrom, st, strand, name, rlt, w = line.strip().split(\"\\t\")\n",
    "        gn, trans_id, feature = name.split(\"|\")\n",
    "        rlt = float(rlt) * feat_scale[feature] + feat_offset[feature]\n",
    "        dist_mea[prefix].append([rlt, float(w)])"
   ]
  },
  {
   "cell_type": "code",
   "execution_count": 59,
   "metadata": {},
   "outputs": [],
   "source": [
    "from tkinter import font\n",
    "\n",
    "\n",
    "plt.rcParams['font.family'] = ['Arial Unicode MS']  # 用来正常显示中文标签\n",
    "plt.rcParams['axes.unicode_minus'] = False  # 用来正常显示负号\n",
    "\n",
    "plt.figure(figsize=(8, 4*len(dist_mea)) )\n",
    "for n, key in enumerate(dist_mea):\n",
    "    tmp = np.array(dist_mea[key])\n",
    "    plt.subplot(len(dist_mea), 1, n+1)\n",
    "    plt.hist(x=tmp[:, 0], weights=tmp[:, 1], bins=200, density=True)\n",
    "    plt.title(key, size=15, color=\"black\", font=\"Arial Unicode MS\")\n",
    "    plt.xticks([0.5, 2, 3.5], [\"5'UTR\", \"CDS\", \"3'UTR\"])\n",
    "    plt.axvline(x=1, color=\"red\", linestyle=\"dashed\")\n",
    "    plt.axvline(x=3, color=\"red\", linestyle=\"dashed\")\n",
    "plt.savefig(\"metagene_test.pdf\")\n",
    "plt.show()"
   ]
  },
  {
   "cell_type": "code",
   "execution_count": null,
   "metadata": {},
   "outputs": [],
   "source": []
  },
  {
   "cell_type": "code",
   "execution_count": 49,
   "metadata": {},
   "outputs": [
    {
     "name": "stdout",
     "output_type": "stream",
     "text": [
      "/mnt/d/workdir_for_Linux/software/Miniconda3/lib/python3.8/site-packages/matplotlib/mpl-data/matplotlibrc\n"
     ]
    }
   ],
   "source": [
    "import matplotlib    \n",
    "print(matplotlib.matplotlib_fname())"
   ]
  },
  {
   "cell_type": "code",
   "execution_count": null,
   "metadata": {},
   "outputs": [],
   "source": []
  }
 ],
 "metadata": {
  "kernelspec": {
   "display_name": "Python 3.8.10 ('base')",
   "language": "python",
   "name": "python3"
  },
  "language_info": {
   "codemirror_mode": {
    "name": "ipython",
    "version": 3
   },
   "file_extension": ".py",
   "mimetype": "text/x-python",
   "name": "python",
   "nbconvert_exporter": "python",
   "pygments_lexer": "ipython3",
   "version": "3.8.10"
  },
  "orig_nbformat": 4,
  "vscode": {
   "interpreter": {
    "hash": "a5e36beba855bc6cf8e1b53b8ea384ee55d7bdc67b46f3370c013b264bbec88f"
   }
  }
 },
 "nbformat": 4,
 "nbformat_minor": 2
}
